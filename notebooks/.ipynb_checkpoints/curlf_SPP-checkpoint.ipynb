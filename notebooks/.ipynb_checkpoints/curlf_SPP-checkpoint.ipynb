{
 "cells": [
  {
   "cell_type": "code",
   "execution_count": null,
   "id": "14ffbc9c",
   "metadata": {},
   "outputs": [],
   "source": [
    "import pandas as pd\n",
    "import numpy as np\n",
    "import matplotlib.pyplot as plt\n",
    "import time\n",
    "from math import sqrt\n",
    "from sklearn.metrics import mean_squared_error, mean_absolute_error"
   ]
  },
  {
   "cell_type": "code",
   "execution_count": null,
   "id": "fd05fcc8",
   "metadata": {},
   "outputs": [],
   "source": [
    "pd.options.display.max_columns=1000\n",
    "plt.style.use(style='seaborn')"
   ]
  },
  {
   "cell_type": "code",
   "execution_count": null,
   "id": "f7b8f4e0",
   "metadata": {},
   "outputs": [],
   "source": [
    "df = pd.read_csv('C:/Users/marki/Desktop/SB Data Science BC/Springboard/Capstone3-Stock_Price_Prediction/csvs/cgc.csv')\n",
    "df['Date'] = pd.to_datetime(df['Date'])\n",
    "df = df.set_index('Date')\n",
    "df = df.rename(columns={'Open':'cgc_Open', 'High':'cgc_High', 'Low':'cgc_Low', 'Close':'cgc_Close', 'Volume':'cgc_Volume'})\n",
    "df = df.drop('Adj Close', axis=1)\n",
    "df.head()"
   ]
  },
  {
   "cell_type": "code",
   "execution_count": null,
   "id": "720bec9f",
   "metadata": {},
   "outputs": [],
   "source": [
    "df['month'] = df.index.month\n",
    "df['day'] = df.index.day\n",
    "df['year'] = df.index.year\n",
    "df['quarter'] = (df['month']-1)//3 + 1\n",
    "df.head()"
   ]
  },
  {
   "cell_type": "code",
   "execution_count": null,
   "id": "0aee4fc5",
   "metadata": {},
   "outputs": [],
   "source": [
    "cols = df.columns.tolist()\n",
    "cols"
   ]
  },
  {
   "cell_type": "code",
   "execution_count": null,
   "id": "f3ae1b59",
   "metadata": {},
   "outputs": [],
   "source": [
    "cols = cols[-4:] + cols[:-4]\n",
    "cols"
   ]
  },
  {
   "cell_type": "code",
   "execution_count": null,
   "id": "3c07ece1",
   "metadata": {},
   "outputs": [],
   "source": [
    "df = df[cols]\n",
    "df.head()"
   ]
  },
  {
   "cell_type": "code",
   "execution_count": null,
   "id": "9ca6d249",
   "metadata": {},
   "outputs": [],
   "source": [
    "df['cgc_prev_close'] = df['cgc_Close'].shift(1)\n",
    "df['cgc_next_close'] = df['cgc_Close'].shift(-1)\n",
    "df['cgc_diff'] = df['cgc_Close'].diff()\n",
    "df['cgc_%change'] = df['cgc_Close'].pct_change()\n",
    "df['cgc_5day_avg_close'] = df['cgc_Close'].rolling(5).mean()\n",
    "df['cgc_5day_avg_diff'] = df['cgc_diff'].rolling(5).mean()\n",
    "df['cgc_10day_avg_close'] = df['cgc_Close'].rolling(10).mean()\n",
    "df['cgc_10day_avg_diff'] = df['cgc_diff'].rolling(10).mean()"
   ]
  },
  {
   "cell_type": "code",
   "execution_count": null,
   "id": "fa38b325",
   "metadata": {},
   "outputs": [],
   "source": [
    "df.head()"
   ]
  },
  {
   "cell_type": "code",
   "execution_count": null,
   "id": "af8388ff",
   "metadata": {},
   "outputs": [],
   "source": [
    "df.shape"
   ]
  },
  {
   "cell_type": "code",
   "execution_count": null,
   "id": "3b421601",
   "metadata": {},
   "outputs": [],
   "source": [
    "#df_cgc = df_cgc.dropna(axis=0)\n",
    "#df_cgc.head()"
   ]
  },
  {
   "cell_type": "code",
   "execution_count": null,
   "id": "e9e9a2ab",
   "metadata": {},
   "outputs": [],
   "source": [
    "df_crlbf = pd.read_csv('C:/Users/marki/Desktop/SB Data Science BC/Springboard/Capstone3-Stock_Price_Prediction/csvs/crlbf.csv')\n",
    "df_crlbf['Date'] = pd.to_datetime(df_crlbf['Date'])\n",
    "df_crlbf = df_crlbf.set_index('Date')\n",
    "df_crlbf = df_crlbf.rename(columns={'Open':'crlbf_Open', 'High':'crlbf_High', 'Low':'crlbf_Low', 'Close':'crlbf_Close', 'Volume':'crlbf_Volume'})\n",
    "df_crlbf = df_crlbf.drop('Adj Close', axis=1)\n",
    "df_crlbf['crlbf_prev_close'] = df_crlbf['crlbf_Close'].shift(1)\n",
    "df_crlbf['crlbf_next_close'] = df_crlbf['crlbf_Close'].shift(-1)\n",
    "df_crlbf['crlbf_diff'] = df_crlbf['crlbf_Close'].diff()\n",
    "df_crlbf['crlbf_%change'] = df_crlbf['crlbf_Close'].pct_change()\n",
    "df_crlbf['crlbf_5day_avg_close'] = df_crlbf['crlbf_Close'].rolling(5).mean()\n",
    "df_crlbf['crlbf_5day_avg_diff'] = df_crlbf['crlbf_diff'].rolling(5).mean()\n",
    "df_crlbf['crlbf_10day_avg_close'] = df_crlbf['crlbf_Close'].rolling(10).mean()\n",
    "df_crlbf['crlbf_10day_avg_diff'] = df_crlbf['crlbf_diff'].rolling(10).mean()"
   ]
  },
  {
   "cell_type": "code",
   "execution_count": null,
   "id": "abf3fe16",
   "metadata": {},
   "outputs": [],
   "source": [
    "df = df.merge(df_crlbf, on='Date', how='left')\n",
    "df.head()"
   ]
  },
  {
   "cell_type": "code",
   "execution_count": null,
   "id": "3d41b943",
   "metadata": {},
   "outputs": [],
   "source": [
    "df_cron = pd.read_csv('C:/Users/marki/Desktop/SB Data Science BC/Springboard/Capstone3-Stock_Price_Prediction/csvs/cron.csv')\n",
    "df_cron['Date'] = pd.to_datetime(df_cron['Date'])\n",
    "df_cron = df_cron.set_index('Date')\n",
    "df_cron = df_cron.rename(columns={'Open':'cron_Open', 'High':'cron_High', 'Low':'cron_Low', 'Close':'cron_Close', 'Volume':'cron_Volume'})\n",
    "df_cron = df_cron.drop('Adj Close', axis=1)\n",
    "df_cron['cron_prev_close'] = df_cron['cron_Close'].shift(1)\n",
    "df_cron['cron_next_close'] = df_cron['cron_Close'].shift(-1)\n",
    "df_cron['cron_diff'] = df_cron['cron_Close'].diff()\n",
    "df_cron['cron_%change'] = df_cron['cron_Close'].pct_change()\n",
    "df_cron['cron_5day_avg_close'] = df_cron['cron_Close'].rolling(5).mean()\n",
    "df_cron['cron_5day_avg_diff'] = df_cron['cron_diff'].rolling(5).mean()\n",
    "df_cron['cron_10day_avg_close'] = df_cron['cron_Close'].rolling(10).mean()\n",
    "df_cron['cron_10day_avg_diff'] = df_cron['cron_diff'].rolling(10).mean()"
   ]
  },
  {
   "cell_type": "code",
   "execution_count": null,
   "id": "cdfb292d",
   "metadata": {},
   "outputs": [],
   "source": [
    "df = df.merge(df_cron, on='Date', how='left')\n",
    "df.head()"
   ]
  },
  {
   "cell_type": "code",
   "execution_count": null,
   "id": "13d6a7ca",
   "metadata": {},
   "outputs": [],
   "source": [
    "df_curlf = pd.read_csv('C:/Users/marki/Desktop/SB Data Science BC/Springboard/Capstone3-Stock_Price_Prediction/csvs/curlf.csv')\n",
    "df_curlf['Date'] = pd.to_datetime(df_curlf['Date'])\n",
    "df_curlf = df_curlf.set_index('Date')\n",
    "df_curlf = df_curlf.rename(columns={'Open':'curlf_Open', 'High':'curlf_High', 'Low':'curlf_Low', 'Close':'curlf_Close', 'Volume':'curlf_Volume'})\n",
    "df_curlf = df_curlf.drop('Adj Close', axis=1)\n",
    "df_curlf['curlf_prev_close'] = df_curlf['curlf_Close'].shift(1)\n",
    "df_curlf['curlf_next_close'] = df_curlf['curlf_Close'].shift(-1)\n",
    "df_curlf['curlf_diff'] = df_curlf['curlf_Close'].diff()\n",
    "df_curlf['curlf_%change'] = df_curlf['curlf_Close'].pct_change()\n",
    "df_curlf['curlf_5day_avg_close'] = df_curlf['curlf_Close'].rolling(5).mean()\n",
    "df_curlf['curlf_5day_avg_diff'] = df_curlf['curlf_diff'].rolling(5).mean()\n",
    "df_curlf['curlf_10day_avg_close'] = df_curlf['curlf_Close'].rolling(10).mean()\n",
    "df_curlf['curlf_10day_avg_diff'] = df_curlf['curlf_diff'].rolling(10).mean()"
   ]
  },
  {
   "cell_type": "code",
   "execution_count": null,
   "id": "25d9babf",
   "metadata": {},
   "outputs": [],
   "source": [
    "df = df.merge(df_curlf, on='Date', how='left')\n",
    "df.head()"
   ]
  },
  {
   "cell_type": "code",
   "execution_count": null,
   "id": "2e2f5f3e",
   "metadata": {},
   "outputs": [],
   "source": [
    "df_gtbif = pd.read_csv('C:/Users/marki/Desktop/SB Data Science BC/Springboard/Capstone3-Stock_Price_Prediction/csvs/gtbif.csv')\n",
    "df_gtbif['Date'] = pd.to_datetime(df_gtbif['Date'])\n",
    "df_gtbif = df_gtbif.set_index('Date')\n",
    "df_gtbif = df_gtbif.rename(columns={'Open':'gtbif_Open', 'High':'gtbif_High', 'Low':'gtbif_Low', 'Close':'gtbif_Close', 'Volume':'gtbif_Volume'})\n",
    "df_gtbif = df_gtbif.drop('Adj Close', axis=1)\n",
    "df_gtbif['gtbif_prev_close'] = df_gtbif['gtbif_Close'].shift(1)\n",
    "df_gtbif['gtbif_next_close'] = df_gtbif['gtbif_Close'].shift(-1)\n",
    "df_gtbif['gtbif_diff'] = df_gtbif['gtbif_Close'].diff()\n",
    "df_gtbif['gtbif_%change'] = df_gtbif['gtbif_Close'].pct_change()\n",
    "df_gtbif['gtbif_5day_avg_close'] = df_gtbif['gtbif_Close'].rolling(5).mean()\n",
    "df_gtbif['gtbif_5day_avg_diff'] = df_gtbif['gtbif_diff'].rolling(5).mean()\n",
    "df_gtbif['gtbif_10day_avg_close'] = df_gtbif['gtbif_Close'].rolling(10).mean()\n",
    "df_gtbif['gtbif_10day_avg_diff'] = df_gtbif['gtbif_diff'].rolling(10).mean()"
   ]
  },
  {
   "cell_type": "code",
   "execution_count": null,
   "id": "ca3c8529",
   "metadata": {},
   "outputs": [],
   "source": [
    "df = df.merge(df_gtbif, on='Date', how='left')\n",
    "df.head()"
   ]
  },
  {
   "cell_type": "code",
   "execution_count": null,
   "id": "d1e49a35",
   "metadata": {},
   "outputs": [],
   "source": [
    "df_iipr = pd.read_csv('C:/Users/marki/Desktop/SB Data Science BC/Springboard/Capstone3-Stock_Price_Prediction/csvs/iipr.csv')\n",
    "df_iipr['Date'] = pd.to_datetime(df_iipr['Date'])\n",
    "df_iipr = df_iipr.set_index('Date')\n",
    "df_iipr = df_iipr.rename(columns={'Open':'iipr_Open', 'High':'iipr_High', 'Low':'iipr_Low', 'Close':'iipr_Close', 'Volume':'iipr_Volume'})\n",
    "df_iipr = df_iipr.drop('Adj Close', axis=1)\n",
    "df_iipr['iipr_prev_close'] = df_iipr['iipr_Close'].shift(1)\n",
    "df_iipr['iipr_next_close'] = df_iipr['iipr_Close'].shift(-1)\n",
    "df_iipr['iipr_diff'] = df_iipr['iipr_Close'].diff()\n",
    "df_iipr['iipr_%change'] = df_iipr['iipr_Close'].pct_change()\n",
    "df_iipr['iipr_5day_avg_close'] = df_iipr['iipr_Close'].rolling(5).mean()\n",
    "df_iipr['iipr_5day_avg_diff'] = df_iipr['iipr_diff'].rolling(5).mean()\n",
    "df_iipr['iipr_10day_avg_close'] = df_iipr['iipr_Close'].rolling(10).mean()\n",
    "df_iipr['iipr_10day_avg_diff'] = df_iipr['iipr_diff'].rolling(10).mean()"
   ]
  },
  {
   "cell_type": "code",
   "execution_count": null,
   "id": "c7d4f6a6",
   "metadata": {},
   "outputs": [],
   "source": [
    "df = df.merge(df_iipr, on='Date', how='left')\n",
    "df.head()"
   ]
  },
  {
   "cell_type": "code",
   "execution_count": null,
   "id": "95d5a242",
   "metadata": {},
   "outputs": [],
   "source": [
    "df_tcnnf = pd.read_csv('C:/Users/marki/Desktop/SB Data Science BC/Springboard/Capstone3-Stock_Price_Prediction/csvs/tcnnf.csv')\n",
    "df_tcnnf['Date'] = pd.to_datetime(df_tcnnf['Date'])\n",
    "df_tcnnf = df_tcnnf.set_index('Date')\n",
    "df_tcnnf = df_tcnnf.rename(columns={'Open':'tcnnf_Open', 'High':'tcnnf_High', 'Low':'tcnnf_Low', 'Close':'tcnnf_Close', 'Volume':'tcnnf_Volume'})\n",
    "df_tcnnf = df_tcnnf.drop('Adj Close', axis=1)\n",
    "df_tcnnf['tcnnf_prev_close'] = df_tcnnf['tcnnf_Close'].shift(1)\n",
    "df_tcnnf['tcnnf_next_close'] = df_tcnnf['tcnnf_Close'].shift(-1)\n",
    "df_tcnnf['tcnnf_diff'] = df_tcnnf['tcnnf_Close'].diff()\n",
    "df_tcnnf['tcnnf_%change'] = df_tcnnf['tcnnf_Close'].pct_change()\n",
    "df_tcnnf['tcnnf_5day_avg_close'] = df_tcnnf['tcnnf_Close'].rolling(5).mean()\n",
    "df_tcnnf['tcnnf_5day_avg_diff'] = df_tcnnf['tcnnf_diff'].rolling(5).mean()\n",
    "df_tcnnf['tcnnf_10day_avg_close'] = df_tcnnf['tcnnf_Close'].rolling(10).mean()\n",
    "df_tcnnf['tcnnf_10day_avg_diff'] = df_tcnnf['tcnnf_diff'].rolling(10).mean()"
   ]
  },
  {
   "cell_type": "code",
   "execution_count": null,
   "id": "d5a07dff",
   "metadata": {},
   "outputs": [],
   "source": [
    "df = df.merge(df_tcnnf, on='Date', how='left')\n",
    "df.head()"
   ]
  },
  {
   "cell_type": "code",
   "execution_count": null,
   "id": "b6310352",
   "metadata": {},
   "outputs": [],
   "source": [
    "df_tlry = pd.read_csv('C:/Users/marki/Desktop/SB Data Science BC/Springboard/Capstone3-Stock_Price_Prediction/csvs/tlry.csv')\n",
    "df_tlry['Date'] = pd.to_datetime(df_tlry['Date'])\n",
    "df_tlry = df_tlry.set_index('Date')\n",
    "df_tlry = df_tlry.rename(columns={'Open':'tlry_Open', 'High':'tlry_High', 'Low':'tlry_Low', 'Close':'tlry_Close', 'Volume':'tlry_Volume'})\n",
    "df_tlry = df_tlry.drop('Adj Close', axis=1)\n",
    "df_tlry['tlry_prev_close'] = df_tlry['tlry_Close'].shift(1)\n",
    "df_tlry['tlry_next_close'] = df_tlry['tlry_Close'].shift(-1)\n",
    "df_tlry['tlry_diff'] = df_tlry['tlry_Close'].diff()\n",
    "df_tlry['tlry_%change'] = df_tlry['tlry_Close'].pct_change()\n",
    "df_tlry['tlry_5day_avg_close'] = df_tlry['tlry_Close'].rolling(5).mean()\n",
    "df_tlry['tlry_5day_avg_diff'] = df_tlry['tlry_diff'].rolling(5).mean()\n",
    "df_tlry['tlry_10day_avg_close'] = df_tlry['tlry_Close'].rolling(10).mean()\n",
    "df_tlry['tlry_10day_avg_diff'] = df_tlry['tlry_diff'].rolling(10).mean()"
   ]
  },
  {
   "cell_type": "code",
   "execution_count": null,
   "id": "a065cda2",
   "metadata": {},
   "outputs": [],
   "source": [
    "df = df.merge(df_tlry, on='Date', how='left')\n",
    "df.head()"
   ]
  },
  {
   "cell_type": "code",
   "execution_count": null,
   "id": "3e598993",
   "metadata": {},
   "outputs": [],
   "source": [
    "df_trssf = pd.read_csv('C:/Users/marki/Desktop/SB Data Science BC/Springboard/Capstone3-Stock_Price_Prediction/csvs/trssf.csv')\n",
    "df_trssf['Date'] = pd.to_datetime(df_trssf['Date'])\n",
    "df_trssf = df_trssf.set_index('Date')\n",
    "df_trssf = df_trssf.rename(columns={'Open':'trssf_Open', 'High':'trssf_High', 'Low':'trssf_Low', 'Close':'trssf_Close', 'Volume':'trssf_Volume'})\n",
    "df_trssf = df_trssf.drop('Adj Close', axis=1)\n",
    "df_trssf['trssf_prev_close'] = df_trssf['trssf_Close'].shift(1)\n",
    "df_trssf['trssf_next_close'] = df_trssf['trssf_Close'].shift(-1)\n",
    "df_trssf['trssf_diff'] = df_trssf['trssf_Close'].diff()\n",
    "df_trssf['trssf_%change'] = df_trssf['trssf_Close'].pct_change()\n",
    "df_trssf['trssf_5day_avg_close'] = df_trssf['trssf_Close'].rolling(5).mean()\n",
    "df_trssf['trssf_5day_avg_diff'] = df_trssf['trssf_diff'].rolling(5).mean()\n",
    "df_trssf['trssf_10day_avg_close'] = df_trssf['trssf_Close'].rolling(10).mean()\n",
    "df_trssf['trssf_10day_avg_diff'] = df_trssf['trssf_diff'].rolling(10).mean()"
   ]
  },
  {
   "cell_type": "code",
   "execution_count": null,
   "id": "c9cf34df",
   "metadata": {},
   "outputs": [],
   "source": [
    "df = df.merge(df_trssf, on='Date', how='left')\n",
    "df.head()"
   ]
  },
  {
   "cell_type": "code",
   "execution_count": null,
   "id": "d451d5fb",
   "metadata": {},
   "outputs": [],
   "source": [
    "df_vrnof = pd.read_csv('C:/Users/marki/Desktop/SB Data Science BC/Springboard/Capstone3-Stock_Price_Prediction/csvs/vrnof.csv')\n",
    "df_vrnof['Date'] = pd.to_datetime(df_vrnof['Date'])\n",
    "df_vrnof = df_vrnof.set_index('Date')\n",
    "df_vrnof = df_vrnof.rename(columns={'Open':'vrnof_Open', 'High':'vrnof_High', 'Low':'vrnof_Low', 'Close':'vrnof_Close', 'Volume':'vrnof_Volume'})\n",
    "df_vrnof = df_vrnof.drop('Adj Close', axis=1)\n",
    "df_vrnof['vrnof_prev_close'] = df_vrnof['vrnof_Close'].shift(1)\n",
    "df_vrnof['vrnof_next_close'] = df_vrnof['vrnof_Close'].shift(-1)\n",
    "df_vrnof['vrnof_diff'] = df_vrnof['vrnof_Close'].diff()\n",
    "df_vrnof['vrnof_%change'] = df_vrnof['vrnof_Close'].pct_change()\n",
    "df_vrnof['vrnof_5day_avg_close'] = df_vrnof['vrnof_Close'].rolling(5).mean()\n",
    "df_vrnof['vrnof_5day_avg_diff'] = df_vrnof['vrnof_diff'].rolling(5).mean()\n",
    "df_vrnof['vrnof_10day_avg_close'] = df_vrnof['vrnof_Close'].rolling(10).mean()\n",
    "df_vrnof['vrnof_10day_avg_diff'] = df_vrnof['vrnof_diff'].rolling(10).mean()"
   ]
  },
  {
   "cell_type": "code",
   "execution_count": null,
   "id": "8aa5f136",
   "metadata": {},
   "outputs": [],
   "source": [
    "df = df.merge(df_vrnof, on='Date', how='left')\n",
    "df.head()"
   ]
  },
  {
   "cell_type": "code",
   "execution_count": null,
   "id": "6a9829f6",
   "metadata": {},
   "outputs": [],
   "source": [
    "df_msos = pd.read_csv('C:/Users/marki/Desktop/SB Data Science BC/Springboard/Capstone3-Stock_Price_Prediction/csvs/msos.csv')\n",
    "df_msos['Date'] = pd.to_datetime(df_msos['Date'])\n",
    "df_msos = df_msos.set_index('Date')\n",
    "df_msos = df_msos.rename(columns={'Open':'msos_Open', 'High':'msos_High', 'Low':'msos_Low', 'Close':'msos_Close', 'Volume':'msos_Volume'})\n",
    "df_msos['msos_prev_close'] = df_msos['msos_Close'].shift(1)\n",
    "df_msos['msos_next_close'] = df_msos['msos_Close'].shift(-1)\n",
    "df_msos['msos_diff'] = df_msos['msos_Close'].diff()\n",
    "df_msos['msos_%change'] = df_msos['msos_Close'].pct_change()\n",
    "df_msos['msos_5day_avg_close'] = df_msos['msos_Close'].rolling(5).mean()\n",
    "df_msos['msos_5day_avg_diff'] = df_msos['msos_diff'].rolling(5).mean()\n",
    "df_msos['msos_10day_avg_close'] = df_msos['msos_Close'].rolling(10).mean()\n",
    "df_msos['msos_10day_avg_diff'] = df_msos['msos_diff'].rolling(10).mean()"
   ]
  },
  {
   "cell_type": "code",
   "execution_count": null,
   "id": "7db90bd8",
   "metadata": {},
   "outputs": [],
   "source": [
    "df = df.merge(df_msos, on='Date', how='left')\n",
    "df.head()"
   ]
  },
  {
   "cell_type": "code",
   "execution_count": null,
   "id": "ccfaaf7f",
   "metadata": {},
   "outputs": [],
   "source": [
    "df_mj = pd.read_csv('C:/Users/marki/Desktop/SB Data Science BC/Springboard/Capstone3-Stock_Price_Prediction/csvs/mj.csv')\n",
    "df_mj['Date'] = pd.to_datetime(df_mj['Date'])\n",
    "df_mj = df_mj.set_index('Date')\n",
    "df_mj = df_mj.rename(columns={'Open':'mj_Open', 'High':'mj_High', 'Low':'mj_Low', 'Close':'mj_Close', 'Volume':'mj_Volume'})\n",
    "df_mj['mj_prev_close'] = df_mj['mj_Close'].shift(1)\n",
    "df_mj['mj_next_close'] = df_mj['mj_Close'].shift(-1)\n",
    "df_mj['mj_diff'] = df_mj['mj_Close'].diff()\n",
    "df_mj['mj_%change'] = df_mj['mj_Close'].pct_change()\n",
    "df_mj['mj_5day_avg_close'] = df_mj['mj_Close'].rolling(5).mean()\n",
    "df_mj['mj_5day_avg_diff'] = df_mj['mj_diff'].rolling(5).mean()\n",
    "df_mj['mj_10day_avg_close'] = df_mj['mj_Close'].rolling(10).mean()\n",
    "df_mj['mj_10day_avg_diff'] = df_mj['mj_diff'].rolling(10).mean()"
   ]
  },
  {
   "cell_type": "code",
   "execution_count": null,
   "id": "bfb10510",
   "metadata": {},
   "outputs": [],
   "source": [
    "df = df.merge(df_mj, on='Date', how='left')\n",
    "df.head()"
   ]
  },
  {
   "cell_type": "code",
   "execution_count": null,
   "id": "9c3c6468",
   "metadata": {},
   "outputs": [],
   "source": [
    "df_yolo = pd.read_csv('C:/Users/marki/Desktop/SB Data Science BC/Springboard/Capstone3-Stock_Price_Prediction/csvs/yolo.csv')\n",
    "df_yolo['Date'] = pd.to_datetime(df_yolo['Date'])\n",
    "df_yolo = df_yolo.set_index('Date')\n",
    "df_yolo = df_yolo.rename(columns={'Open':'yolo_Open', 'High':'yolo_High', 'Low':'yolo_Low', 'Close':'yolo_Close', 'Volume':'yolo_Volume'})\n",
    "df_yolo['yolo_prev_close'] = df_yolo['yolo_Close'].shift(1)\n",
    "df_yolo['yolo_next_close'] = df_yolo['yolo_Close'].shift(-1)\n",
    "df_yolo['yolo_diff'] = df_yolo['yolo_Close'].diff()\n",
    "df_yolo['yolo_%change'] = df_yolo['yolo_Close'].pct_change()\n",
    "df_yolo['yolo_5day_avg_close'] = df_yolo['yolo_Close'].rolling(5).mean()\n",
    "df_yolo['yolo_5day_avg_diff'] = df_yolo['yolo_diff'].rolling(5).mean()\n",
    "df_yolo['yolo_10day_avg_close'] = df_yolo['yolo_Close'].rolling(10).mean()\n",
    "df_yolo['yolo_10day_avg_diff'] = df_yolo['yolo_diff'].rolling(10).mean()"
   ]
  },
  {
   "cell_type": "code",
   "execution_count": null,
   "id": "5e044ea4",
   "metadata": {},
   "outputs": [],
   "source": [
    "df = df.merge(df_yolo, on='Date', how='left')\n",
    "df.head()"
   ]
  },
  {
   "cell_type": "code",
   "execution_count": null,
   "id": "6bce1f93",
   "metadata": {},
   "outputs": [],
   "source": [
    "df_cnbs = pd.read_csv('C:/Users/marki/Desktop/SB Data Science BC/Springboard/Capstone3-Stock_Price_Prediction/csvs/cnbs.csv')\n",
    "df_cnbs['Date'] = pd.to_datetime(df_cnbs['Date'])\n",
    "df_cnbs = df_cnbs.set_index('Date')\n",
    "df_cnbs = df_cnbs.rename(columns={'Open':'cnbs_Open', 'High':'cnbs_High', 'Low':'cnbs_Low', 'Close':'cnbs_Close', 'Volume':'cnbs_Volume'})\n",
    "df_cnbs['cnbs_prev_close'] = df_cnbs['cnbs_Close'].shift(1)\n",
    "df_cnbs['cnbs_next_close'] = df_cnbs['cnbs_Close'].shift(-1)\n",
    "df_cnbs['cnbs_diff'] = df_cnbs['cnbs_Close'].diff()\n",
    "df_cnbs['cnbs_%change'] = df_cnbs['cnbs_Close'].pct_change()\n",
    "df_cnbs['cnbs_5day_avg_close'] = df_cnbs['cnbs_Close'].rolling(5).mean()\n",
    "df_cnbs['cnbs_5day_avg_diff'] = df_cnbs['cnbs_diff'].rolling(5).mean()\n",
    "df_cnbs['cnbs_10day_avg_close'] = df_cnbs['cnbs_Close'].rolling(10).mean()\n",
    "df_cnbs['cnbs_10day_avg_diff'] = df_cnbs['cnbs_diff'].rolling(10).mean()"
   ]
  },
  {
   "cell_type": "code",
   "execution_count": null,
   "id": "164ebd70",
   "metadata": {},
   "outputs": [],
   "source": [
    "df = df.merge(df_cnbs, on='Date', how='left')\n",
    "df.head()"
   ]
  },
  {
   "cell_type": "code",
   "execution_count": null,
   "id": "7bc63779",
   "metadata": {},
   "outputs": [],
   "source": [
    "df_thcx = pd.read_csv('C:/Users/marki/Desktop/SB Data Science BC/Springboard/Capstone3-Stock_Price_Prediction/csvs/thcx.csv')\n",
    "df_thcx['Date'] = pd.to_datetime(df_thcx['Date'])\n",
    "df_thcx = df_thcx.set_index('Date')\n",
    "df_thcx = df_thcx.rename(columns={'Open':'thcx_Open', 'High':'thcx_High', 'Low':'thcx_Low', 'Close':'thcx_Close', 'Volume':'thcx_Volume'})\n",
    "df_thcx['thcx_prev_close'] = df_thcx['thcx_Close'].shift(1)\n",
    "df_thcx['thcx_next_close'] = df_thcx['thcx_Close'].shift(-1)\n",
    "df_thcx['thcx_diff'] = df_thcx['thcx_Close'].diff()\n",
    "df_thcx['thcx_%change'] = df_thcx['thcx_Close'].pct_change()\n",
    "df_thcx['thcx_5day_avg_close'] = df_thcx['thcx_Close'].rolling(5).mean()\n",
    "df_thcx['thcx_5day_avg_diff'] = df_thcx['thcx_diff'].rolling(5).mean()\n",
    "df_thcx['thcx_10day_avg_close'] = df_thcx['thcx_Close'].rolling(10).mean()\n",
    "df_thcx['thcx_10day_avg_diff'] = df_thcx['thcx_diff'].rolling(10).mean()"
   ]
  },
  {
   "cell_type": "code",
   "execution_count": null,
   "id": "5bf5e766",
   "metadata": {},
   "outputs": [],
   "source": [
    "df = df.merge(df_thcx, on='Date', how='left')\n",
    "df.head()"
   ]
  },
  {
   "cell_type": "code",
   "execution_count": null,
   "id": "ead280bb",
   "metadata": {},
   "outputs": [],
   "source": [
    "df_djix = pd.read_csv('C:/Users/marki/Desktop/SB Data Science BC/Springboard/Capstone3-Stock_Price_Prediction/csvs/djix.csv')\n",
    "df_djix['Date'] = pd.to_datetime(df_djix['Date'])\n",
    "df_djix = df_djix.set_index('Date')\n",
    "df_djix = df_djix.rename(columns={'Open':'djix_Open', 'High':'djix_High', 'Low':'djix_Low', 'Close':'djix_Close', 'Volume':'djix_Volume'})\n",
    "df_djix['djix_prev_close'] = df_djix['djix_Close'].shift(1)\n",
    "df_djix['djix_next_close'] = df_djix['djix_Close'].shift(-1)\n",
    "df_djix['djix_diff'] = df_djix['djix_Close'].diff()\n",
    "df_djix['djix_%change'] = df_djix['djix_Close'].pct_change()\n",
    "df_djix['djix_5day_avg_close'] = df_djix['djix_Close'].rolling(5).mean()\n",
    "df_djix['djix_5day_avg_diff'] = df_djix['djix_diff'].rolling(5).mean()\n",
    "df_djix['djix_10day_avg_close'] = df_djix['djix_Close'].rolling(10).mean()\n",
    "df_djix['djix_10day_avg_diff'] = df_djix['djix_diff'].rolling(10).mean()"
   ]
  },
  {
   "cell_type": "code",
   "execution_count": null,
   "id": "0652d583",
   "metadata": {},
   "outputs": [],
   "source": [
    "df = df.merge(df_djix, on='Date', how='left')\n",
    "df.head()"
   ]
  },
  {
   "cell_type": "code",
   "execution_count": null,
   "id": "f71d9f7d",
   "metadata": {},
   "outputs": [],
   "source": []
  },
  {
   "cell_type": "code",
   "execution_count": null,
   "id": "3b2cceea",
   "metadata": {},
   "outputs": [],
   "source": [
    "df_isna = df.isna()\n",
    "df_isna"
   ]
  },
  {
   "cell_type": "code",
   "execution_count": null,
   "id": "8ed555da",
   "metadata": {},
   "outputs": [],
   "source": [
    "df_isna = df_isna.add_suffix('_b')"
   ]
  },
  {
   "cell_type": "code",
   "execution_count": null,
   "id": "15896c5d",
   "metadata": {},
   "outputs": [],
   "source": [
    "df = df.fillna(0)\n",
    "df.head()"
   ]
  },
  {
   "cell_type": "code",
   "execution_count": null,
   "id": "afc43504",
   "metadata": {},
   "outputs": [],
   "source": [
    "df = pd.concat([df, df_isna], axis=1)\n",
    "df"
   ]
  },
  {
   "cell_type": "code",
   "execution_count": null,
   "id": "42c4ff10",
   "metadata": {},
   "outputs": [],
   "source": [
    "df.drop(df.tail(1).index, inplace=True)"
   ]
  },
  {
   "cell_type": "code",
   "execution_count": null,
   "id": "ae5a3ba3",
   "metadata": {},
   "outputs": [],
   "source": [
    "df.shape"
   ]
  },
  {
   "cell_type": "code",
   "execution_count": null,
   "id": "01b538e4",
   "metadata": {},
   "outputs": [],
   "source": [
    "plt.plot(df['cgc_Close'])"
   ]
  },
  {
   "cell_type": "code",
   "execution_count": null,
   "id": "1a89768c",
   "metadata": {},
   "outputs": [],
   "source": []
  },
  {
   "cell_type": "code",
   "execution_count": null,
   "id": "6f7e5a23",
   "metadata": {},
   "outputs": [],
   "source": [
    "n = int(len(df) * 0.9)\n",
    "n"
   ]
  },
  {
   "cell_type": "code",
   "execution_count": null,
   "id": "76043aac",
   "metadata": {},
   "outputs": [],
   "source": [
    "train = df[:n]\n",
    "test = df[n:]"
   ]
  },
  {
   "cell_type": "code",
   "execution_count": null,
   "id": "5dc46d1c",
   "metadata": {},
   "outputs": [],
   "source": [
    "print(len(train))\n",
    "print(len(test))"
   ]
  },
  {
   "cell_type": "code",
   "execution_count": null,
   "id": "aee2d995",
   "metadata": {},
   "outputs": [],
   "source": [
    "n2 = len(test)\n",
    "n2"
   ]
  },
  {
   "cell_type": "code",
   "execution_count": null,
   "id": "6487b167",
   "metadata": {},
   "outputs": [],
   "source": [
    "X_train = train.drop('cgc_next_close', axis=1)\n",
    "X_train.head(3)"
   ]
  },
  {
   "cell_type": "code",
   "execution_count": null,
   "id": "b15880e9",
   "metadata": {},
   "outputs": [],
   "source": [
    "X_train.shape"
   ]
  },
  {
   "cell_type": "code",
   "execution_count": null,
   "id": "59614209",
   "metadata": {},
   "outputs": [],
   "source": [
    "y_train = train['cgc_next_close']\n",
    "y_train.head(3)"
   ]
  },
  {
   "cell_type": "code",
   "execution_count": null,
   "id": "8887085d",
   "metadata": {},
   "outputs": [],
   "source": [
    "y_train.tail(3)"
   ]
  },
  {
   "cell_type": "code",
   "execution_count": null,
   "id": "29b0f290",
   "metadata": {},
   "outputs": [],
   "source": [
    "type(y_train)"
   ]
  },
  {
   "cell_type": "code",
   "execution_count": null,
   "id": "2659a083",
   "metadata": {},
   "outputs": [],
   "source": [
    "X_test = test.drop('cgc_next_close', axis=1)\n",
    "y_test = test['cgc_next_close']"
   ]
  },
  {
   "cell_type": "code",
   "execution_count": null,
   "id": "0f08269f",
   "metadata": {},
   "outputs": [],
   "source": [
    "X_test.head(3)"
   ]
  },
  {
   "cell_type": "code",
   "execution_count": null,
   "id": "20fed04b",
   "metadata": {},
   "outputs": [],
   "source": [
    "X_test.shape"
   ]
  },
  {
   "cell_type": "code",
   "execution_count": null,
   "id": "69b7344d",
   "metadata": {},
   "outputs": [],
   "source": [
    "y_test.tail(3)"
   ]
  },
  {
   "cell_type": "code",
   "execution_count": null,
   "id": "bc6f2341",
   "metadata": {},
   "outputs": [],
   "source": [
    "from sklearn.linear_model import LinearRegression\n",
    "hyper_table = list()"
   ]
  },
  {
   "cell_type": "code",
   "execution_count": null,
   "id": "3e303c05",
   "metadata": {},
   "outputs": [],
   "source": [
    "model = LinearRegression()\n",
    "model.fit(X_train, y_train)\n",
    "y_pred = model.predict(X_test)"
   ]
  },
  {
   "cell_type": "code",
   "execution_count": null,
   "id": "7f70a3ff",
   "metadata": {},
   "outputs": [],
   "source": [
    "y_pred[:5]"
   ]
  },
  {
   "cell_type": "code",
   "execution_count": null,
   "id": "3bf60d12",
   "metadata": {},
   "outputs": [],
   "source": [
    "type(y_pred)"
   ]
  },
  {
   "cell_type": "code",
   "execution_count": null,
   "id": "ca48b933",
   "metadata": {},
   "outputs": [],
   "source": [
    "def rmse_manual(actual, predicted):\n",
    "    error_sum = 0.0\n",
    "    for i in range(len(actual)):\n",
    "        error_pred = predicted[i] - actual.iloc[i]\n",
    "        error_sum += (error_pred ** 2)\n",
    "    error_mean = error_sum / float(len(actual))\n",
    "    return sqrt(error_mean)\n",
    " \n",
    "# Test RMSE\n",
    "rmse_man = rmse_manual(y_test, y_pred)\n",
    "print(rmse_man)"
   ]
  },
  {
   "cell_type": "code",
   "execution_count": null,
   "id": "28cbf818",
   "metadata": {},
   "outputs": [],
   "source": [
    "rms = mean_squared_error(y_test, y_pred, squared=False)\n",
    "rms"
   ]
  },
  {
   "cell_type": "code",
   "execution_count": null,
   "id": "ae624005",
   "metadata": {},
   "outputs": [],
   "source": [
    "def mae_manual(actual, predicted):\n",
    "    error_sum = 0.0\n",
    "    for i in range(len(actual)):\n",
    "        error_sum += abs(predicted[i] - actual.iloc[i])\n",
    "    return error_sum / float(len(actual))\n",
    " \n",
    "# Test MAE\n",
    "mae_man = mae_manual(y_test, y_pred)\n",
    "print(mae_man)"
   ]
  },
  {
   "cell_type": "code",
   "execution_count": null,
   "id": "2174789b",
   "metadata": {},
   "outputs": [],
   "source": [
    "mae = mean_absolute_error(y_test, y_pred)\n",
    "mae"
   ]
  },
  {
   "cell_type": "code",
   "execution_count": null,
   "id": "c5ce770b",
   "metadata": {},
   "outputs": [],
   "source": [
    "hyper_table.append(dict(model=model, \n",
    "                        rmse=rmse_man,\n",
    "                        mae=mae_man,\n",
    "                        rows=df.shape[0], \n",
    "                        train_rows=X_train.shape[0],\n",
    "                        test_rows=X_test.shape[0],\n",
    "                        columns=df.shape[1]))"
   ]
  },
  {
   "cell_type": "code",
   "execution_count": null,
   "id": "9c98f0ca",
   "metadata": {},
   "outputs": [],
   "source": [
    "hyper_table = pd.DataFrame(hyper_table)\n",
    "hyper_table"
   ]
  },
  {
   "cell_type": "code",
   "execution_count": null,
   "id": "afccda5e",
   "metadata": {},
   "outputs": [],
   "source": [
    "#hyper_table.to_csv('C:/Users/marki/Desktop/SB Data Science BC/Springboard/Capstone3-Stock_Price_Prediction/data from notebooks/hyper_table.csv', index=False)"
   ]
  },
  {
   "cell_type": "code",
   "execution_count": null,
   "id": "a3e0785e",
   "metadata": {},
   "outputs": [],
   "source": [
    "y_train = pd.DataFrame(y_train, columns=['cgc_next_close'])\n",
    "y_test = pd.DataFrame(y_test, columns=['cgc_next_close'])"
   ]
  },
  {
   "cell_type": "code",
   "execution_count": null,
   "id": "c2803e75",
   "metadata": {},
   "outputs": [],
   "source": [
    "y_test['cgc_pred_next_close'] = y_pred"
   ]
  },
  {
   "cell_type": "code",
   "execution_count": null,
   "id": "3f861cfd",
   "metadata": {},
   "outputs": [],
   "source": [
    "y_test.tail()"
   ]
  },
  {
   "cell_type": "code",
   "execution_count": null,
   "id": "e2241357",
   "metadata": {},
   "outputs": [],
   "source": [
    "fig, ax = plt.subplots(figsize=(20,10))\n",
    "#ax.plot(y_train)\n",
    "ax.plot(y_test['cgc_next_close'])\n",
    "ax.plot(y_test['cgc_pred_next_close'])\n",
    "plt.xticks(fontsize=20)\n",
    "plt.yticks(fontsize=20)\n",
    "ax.legend(['actuals', 'predicted'], fontsize=20)\n",
    "plt.show()"
   ]
  }
 ],
 "metadata": {
  "kernelspec": {
   "display_name": "Python 3",
   "language": "python",
   "name": "python3"
  },
  "language_info": {
   "codemirror_mode": {
    "name": "ipython",
    "version": 3
   },
   "file_extension": ".py",
   "mimetype": "text/x-python",
   "name": "python",
   "nbconvert_exporter": "python",
   "pygments_lexer": "ipython3",
   "version": "3.8.8"
  }
 },
 "nbformat": 4,
 "nbformat_minor": 5
}
