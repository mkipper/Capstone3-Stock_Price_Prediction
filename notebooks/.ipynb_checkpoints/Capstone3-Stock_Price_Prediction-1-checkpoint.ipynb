{
 "cells": [
  {
   "cell_type": "code",
   "execution_count": 1,
   "id": "5c03b4dc",
   "metadata": {},
   "outputs": [],
   "source": [
    "import pandas as pd\n",
    "import numpy as np\n",
    "from sklearn.linear_model import LogisticRegression\n",
    "from sklearn.model_selection import train_test_split\n",
    "pd.options.display.max_columns=1000"
   ]
  },
  {
   "cell_type": "code",
   "execution_count": 4,
   "id": "dd471f2b",
   "metadata": {},
   "outputs": [
    {
     "data": {
      "text/html": [
       "<div>\n",
       "<style scoped>\n",
       "    .dataframe tbody tr th:only-of-type {\n",
       "        vertical-align: middle;\n",
       "    }\n",
       "\n",
       "    .dataframe tbody tr th {\n",
       "        vertical-align: top;\n",
       "    }\n",
       "\n",
       "    .dataframe thead th {\n",
       "        text-align: right;\n",
       "    }\n",
       "</style>\n",
       "<table border=\"1\" class=\"dataframe\">\n",
       "  <thead>\n",
       "    <tr style=\"text-align: right;\">\n",
       "      <th></th>\n",
       "      <th>Date</th>\n",
       "      <th>Open</th>\n",
       "      <th>High</th>\n",
       "      <th>Low</th>\n",
       "      <th>Close</th>\n",
       "      <th>Adj Close</th>\n",
       "      <th>Volume</th>\n",
       "    </tr>\n",
       "  </thead>\n",
       "  <tbody>\n",
       "    <tr>\n",
       "      <th>0</th>\n",
       "      <td>4/7/2014</td>\n",
       "      <td>2.448</td>\n",
       "      <td>3.458</td>\n",
       "      <td>2.444</td>\n",
       "      <td>3.300</td>\n",
       "      <td>3.300</td>\n",
       "      <td>168600</td>\n",
       "    </tr>\n",
       "    <tr>\n",
       "      <th>1</th>\n",
       "      <td>4/8/2014</td>\n",
       "      <td>3.554</td>\n",
       "      <td>3.896</td>\n",
       "      <td>3.493</td>\n",
       "      <td>3.629</td>\n",
       "      <td>3.629</td>\n",
       "      <td>136800</td>\n",
       "    </tr>\n",
       "    <tr>\n",
       "      <th>2</th>\n",
       "      <td>4/9/2014</td>\n",
       "      <td>3.720</td>\n",
       "      <td>3.720</td>\n",
       "      <td>3.100</td>\n",
       "      <td>3.299</td>\n",
       "      <td>3.299</td>\n",
       "      <td>75200</td>\n",
       "    </tr>\n",
       "    <tr>\n",
       "      <th>3</th>\n",
       "      <td>4/10/2014</td>\n",
       "      <td>3.346</td>\n",
       "      <td>3.494</td>\n",
       "      <td>3.029</td>\n",
       "      <td>3.285</td>\n",
       "      <td>3.285</td>\n",
       "      <td>206100</td>\n",
       "    </tr>\n",
       "    <tr>\n",
       "      <th>4</th>\n",
       "      <td>4/11/2014</td>\n",
       "      <td>3.204</td>\n",
       "      <td>3.293</td>\n",
       "      <td>3.045</td>\n",
       "      <td>3.085</td>\n",
       "      <td>3.085</td>\n",
       "      <td>114600</td>\n",
       "    </tr>\n",
       "  </tbody>\n",
       "</table>\n",
       "</div>"
      ],
      "text/plain": [
       "        Date   Open   High    Low  Close  Adj Close  Volume\n",
       "0   4/7/2014  2.448  3.458  2.444  3.300      3.300  168600\n",
       "1   4/8/2014  3.554  3.896  3.493  3.629      3.629  136800\n",
       "2   4/9/2014  3.720  3.720  3.100  3.299      3.299   75200\n",
       "3  4/10/2014  3.346  3.494  3.029  3.285      3.285  206100\n",
       "4  4/11/2014  3.204  3.293  3.045  3.085      3.085  114600"
      ]
     },
     "execution_count": 4,
     "metadata": {},
     "output_type": "execute_result"
    }
   ],
   "source": [
    "cgc = pd.read_csv('C:/Users/marki/Desktop/SB Data Science BC/Springboard/Capstone3-Stock_Price_Prediction/csvs/cgc.csv')\n",
    "cgc.head()"
   ]
  },
  {
   "cell_type": "code",
   "execution_count": null,
   "id": "32e678d3",
   "metadata": {},
   "outputs": [],
   "source": []
  }
 ],
 "metadata": {
  "kernelspec": {
   "display_name": "Python 3",
   "language": "python",
   "name": "python3"
  },
  "language_info": {
   "codemirror_mode": {
    "name": "ipython",
    "version": 3
   },
   "file_extension": ".py",
   "mimetype": "text/x-python",
   "name": "python",
   "nbconvert_exporter": "python",
   "pygments_lexer": "ipython3",
   "version": "3.8.8"
  }
 },
 "nbformat": 4,
 "nbformat_minor": 5
}
